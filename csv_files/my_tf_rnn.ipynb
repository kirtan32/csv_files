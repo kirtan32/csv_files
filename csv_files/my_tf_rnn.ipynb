{
  "nbformat": 4,
  "nbformat_minor": 0,
  "metadata": {
    "colab": {
      "name": "my_tf_rnn.ipynb",
      "version": "0.3.2",
      "provenance": []
    },
    "kernelspec": {
      "name": "python3",
      "display_name": "Python 3"
    }
  },
  "cells": [
    {
      "cell_type": "code",
      "metadata": {
        "id": "UZl8hFyDrREH",
        "colab_type": "code",
        "colab": {}
      },
      "source": [
        "import numpy as np\n",
        "import pandas as pd\n",
        "import sklearn\n",
        "import sklearn.preprocessing\n",
        "import datetime\n",
        "import os\n",
        "import matplotlib.pyplot as plt\n",
        "import tensorflow as tf"
      ],
      "execution_count": 0,
      "outputs": []
    },
    {
      "cell_type": "code",
      "metadata": {
        "id": "mJedA913rkzn",
        "colab_type": "code",
        "colab": {}
      },
      "source": [
        "dataset = pd.read_csv('RELIANCE.NS.csv',index_col = 0)\n",
        "df_stock = dataset.copy()\n",
        "df_stock = df_stock.dropna()\n",
        "df_stock = df_stock[['Open','High','Low','Close']]"
      ],
      "execution_count": 0,
      "outputs": []
    },
    {
      "cell_type": "code",
      "metadata": {
        "id": "JiQL9K4EsUIj",
        "colab_type": "code",
        "colab": {}
      },
      "source": [
        "def normalize_data(df)\n",
        "  min_max_scaler + sklearn.preprocessing.MinMaxScaler()\n",
        "  df['Open'] = min_max_scaler.fit_transform(df.Open.values.reshape(-1,1))\n",
        "  df['High'] = min_max_scaler.fit_transform(df.High.values.reshape(-1,1))\n",
        "  df['Low'] = min_max_scaler.fit_transform(df.Low.values.reshape(-1,1))\n",
        "  df['Close'] = min_max_scaler.fit_transform(df.Close.values.reshape(-1,1))\n",
        "  return df\n",
        "\n",
        "df_stock_norm = df_stock.copy()\n",
        "df_stock_norm = normalize_data(df_stock_norm)\n",
        "  "
      ],
      "execution_count": 0,
      "outputs": []
    },
    {
      "cell_type": "code",
      "metadata": {
        "id": "9BE8vsU_v48a",
        "colab_type": "code",
        "colab": {}
      },
      "source": [
        "valid_set_size_percentage = 10\n",
        "test_set_size_percentage = 10\n",
        "seq_len = 20\n",
        "\n",
        "def row_data(stock,seq_len):\n",
        "  data_row = stock.as-matrix()\n",
        "  data = []\n",
        "  \n",
        "  for index in range(len(data_raw) - seq_len):\n",
        "    data.append(data_raw[index: index + seq_len])\n",
        "   \n",
        "  data = np.array(data);\n",
        "  valid_set_size = int(np.round(valid_set_size_percentage/100*data.shape[0]));  \n",
        "  test_set_size = int(np.round(test_set_size_percentage/100*data.shape[0]));\n",
        "  train_set_size = data.shape[0] - (valid_set_size + test_set_size);\n",
        "  x_train = data[:train_set_size,:-1,:]\n",
        "  y_train = data[:train_set_size,-1,:]\n",
        "  x_valid = data[train_set_size:train_set_size+valid_set_size,:-1,:]\n",
        "  y_valid = data[train_set_size:train_set_size+valid_set_size,-1,:]\n",
        "  x_test = data[train_set_size+valid_set_size:,:-1,:]\n",
        "  y_test = data[train_set_size+valid_set_size:,-1,:]\n",
        "  return [x_train, y_train, x_valid, y_valid, x_test, y_test]\n",
        "\n",
        "x_train, y_train, x_valid, y_valid, x_test, y_test = load_data(df_stock_norm, seq_len)\n",
        "print('x_train.shape = ',x_train.shape)\n",
        "print('y_train.shape = ', y_train.shape)\n",
        "print('x_valid.shape = ',x_valid.shape)\n",
        "print('y_valid.shape = ', y_valid.shape)\n",
        "print('x_test.shape = ', x_test.shape)\n",
        "print('y_test.shape = ',y_test.shape)\n"
      ],
      "execution_count": 0,
      "outputs": []
    },
    {
      "cell_type": "code",
      "metadata": {
        "id": "BPdiRGisz-u8",
        "colab_type": "code",
        "colab": {}
      },
      "source": [
        "#Model"
      ],
      "execution_count": 0,
      "outputs": []
    },
    {
      "cell_type": "code",
      "metadata": {
        "id": "JisH2T0E1IiT",
        "colab_type": "code",
        "colab": {}
      },
      "source": [
        "n_steps = seq_len-1 \n",
        "n_inputs = 4 \n",
        "n_neurons = 200 \n",
        "n_outputs = 4\n",
        "n_layers = 2\n",
        "learning_rate = 0.001\n",
        "batch_size = 10\n",
        "n_epochs = 10 \n",
        "train_set_size = x_train.shape[0]\n",
        "test_set_size = x_test.shape[0]\n",
        "tf.reset_default_graph()\n",
        "X = tf.placeholder(tf.float32, [None, n_steps, n_inputs])\n",
        "y = tf.placeholder(tf.float32, [None, n_outputs])"
      ],
      "execution_count": 0,
      "outputs": []
    },
    {
      "cell_type": "code",
      "metadata": {
        "id": "pAcq1dZa1ypp",
        "colab_type": "code",
        "colab": {}
      },
      "source": [
        "index_in_epoch = 0;\n",
        "perm_array  = np.arange(x_train.shape[0])\n",
        "np.random.shuffle(perm_array)\n",
        "\n",
        "def get_next_batch(batch_size):\n",
        "    global index_in_epoch, x_train, perm_array   \n",
        "    start = index_in_epoch\n",
        "    index_in_epoch += batch_size \n",
        "    if index_in_epoch > x_train.shape[0]:\n",
        "        np.random.shuffle(perm_array)\n",
        "        start = 0 \n",
        "        index_in_epoch = batch_size     \n",
        "    end = index_in_epoch\n",
        "    return x_train[perm_array[start:end]], y_train[perm_array[start:end]]"
      ],
      "execution_count": 0,
      "outputs": []
    },
    {
      "cell_type": "code",
      "metadata": {
        "id": "MVtSSzRb1-k2",
        "colab_type": "code",
        "colab": {}
      },
      "source": [
        "\n",
        "layers = [tf.contrib.rnn.BasicRNNCell(num_units=n_neurons, activation=tf.nn.elu)\n",
        "         for layer in range(n_layers)]                                                                  \n",
        "multi_layer_cell = tf.contrib.rnn.MultiRNNCell(layers)\n",
        "rnn_outputs, states = tf.nn.dynamic_rnn(multi_layer_cell, X, dtype=tf.float32)\n",
        "stacked_rnn_outputs = tf.reshape(rnn_outputs, [-1, n_neurons]) \n",
        "stacked_outputs = tf.layers.dense(stacked_rnn_outputs, n_outputs)\n",
        "outputs = tf.reshape(stacked_outputs, [-1, n_steps, n_outputs])\n",
        "outputs = outputs[:,n_steps-1,:] \n",
        "                                              \n",
        "loss = tf.reduce_mean(tf.square(outputs - y))\n",
        "\n",
        "optimizer = tf.train.AdamOptimizer(learning_rate=learning_rate) \n",
        "training_op = optimizer.minimize(loss)"
      ],
      "execution_count": 0,
      "outputs": []
    },
    {
      "cell_type": "code",
      "metadata": {
        "id": "WNjRoUjT2QQr",
        "colab_type": "code",
        "colab": {}
      },
      "source": [
        "with tf.Session() as sess: \n",
        "    sess.run(tf.global_variables_initializer())\n",
        "    for iteration in range(int(n_epochs*train_set_size/batch_size)):\n",
        "        x_batch, y_batch = get_next_batch(batch_size) \n",
        "        sess.run(training_op, feed_dict={X: x_batch, y: y_batch}) \n",
        "        if iteration % int(5*train_set_size/batch_size) == 0:\n",
        "            mse_train = loss.eval(feed_dict={X: x_train, y: y_train}) \n",
        "            mse_valid = loss.eval(feed_dict={X: x_valid, y: y_valid}) \n",
        "            print('%.2f epochs: MSE train/valid = %.6f/%.6f'%(\n",
        "                iteration*batch_size/train_set_size, mse_train, mse_valid))\n",
        "            \n",
        "    y_test_pred = sess.run(outputs, feed_dict={X: x_test})"
      ],
      "execution_count": 0,
      "outputs": []
    },
    {
      "cell_type": "code",
      "metadata": {
        "id": "0hkWZ3fz2W1E",
        "colab_type": "code",
        "colab": {}
      },
      "source": [
        "y_test_pred_shape"
      ],
      "execution_count": 0,
      "outputs": []
    },
    {
      "cell_type": "code",
      "metadata": {
        "id": "XZmNjKCG2ey2",
        "colab_type": "code",
        "colab": {}
      },
      "source": [
        "comp = pd.DataFrame({'Column1':y_test[:,3],'Column2':y_test_pred[:,3]})\n",
        "plt.figure(figsize=(10,5))\n",
        "plt.plot(comp['Column1'], color='blue', label='Target')\n",
        "plt.plot(comp['Column2'], color='black', label='Prediction')\n",
        "plt.legend()\n",
        "plt.show()"
      ],
      "execution_count": 0,
      "outputs": []
    }
  ]
}